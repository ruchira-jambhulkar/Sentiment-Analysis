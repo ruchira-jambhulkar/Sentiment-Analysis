{
  "nbformat": 4,
  "nbformat_minor": 0,
  "metadata": {
    "kernelspec": {
      "display_name": "Python 3",
      "language": "python",
      "name": "python3"
    },
    "language_info": {
      "codemirror_mode": {
        "name": "ipython",
        "version": 3
      },
      "file_extension": ".py",
      "mimetype": "text/x-python",
      "name": "python",
      "nbconvert_exporter": "python",
      "pygments_lexer": "ipython3",
      "version": "3.7.6"
    },
    "colab": {
      "name": "SentimentAnalysis_IMDB.ipynb",
      "provenance": [],
      "collapsed_sections": []
    }
  },
  "cells": [
    {
      "cell_type": "markdown",
      "metadata": {
        "id": "emVBaKarpb91",
        "colab_type": "text"
      },
      "source": [
        "# **Sentiment analysis on IMDB moview review dataset using NLP and Machine Learning approaches**"
      ]
    },
    {
      "cell_type": "code",
      "metadata": {
        "id": "015S2ob7F2in",
        "colab_type": "code",
        "colab": {}
      },
      "source": [
        "#Importing required libraries\n",
        "\n",
        "import pandas as pd\n",
        "import numpy as np\n",
        "import matplotlib.pyplot as plt\n",
        "%matplotlib inline"
      ],
      "execution_count": 1,
      "outputs": []
    },
    {
      "cell_type": "code",
      "metadata": {
        "id": "rntLVJ1lF2iq",
        "colab_type": "code",
        "colab": {}
      },
      "source": [
        "#Loading the dataset\n",
        "\n",
        "dataset = pd.read_csv(\"IMDB Dataset.csv\")"
      ],
      "execution_count": 2,
      "outputs": []
    },
    {
      "cell_type": "code",
      "metadata": {
        "id": "Sac7uVLpF2is",
        "colab_type": "code",
        "colab": {
          "base_uri": "https://localhost:8080/",
          "height": 252
        },
        "outputId": "9cf6db26-0dcd-442d-b639-9b55b94a02ab"
      },
      "source": [
        "#Dataset information\n",
        "\n",
        "dataset.info"
      ],
      "execution_count": 3,
      "outputs": [
        {
          "output_type": "execute_result",
          "data": {
            "text/plain": [
              "<bound method DataFrame.info of                                                   review sentiment\n",
              "0      One of the other reviewers has mentioned that ...  positive\n",
              "1      A wonderful little production. <br /><br />The...  positive\n",
              "2      I thought this was a wonderful way to spend ti...  positive\n",
              "3      Basically there's a family where a little boy ...  negative\n",
              "4      Petter Mattei's \"Love in the Time of Money\" is...  positive\n",
              "...                                                  ...       ...\n",
              "49995  I thought this movie did a down right good job...  positive\n",
              "49996  Bad plot, bad dialogue, bad acting, idiotic di...  negative\n",
              "49997  I am a Catholic taught in parochial elementary...  negative\n",
              "49998  I'm going to have to disagree with the previou...  negative\n",
              "49999  No one expects the Star Trek movies to be high...  negative\n",
              "\n",
              "[50000 rows x 2 columns]>"
            ]
          },
          "metadata": {
            "tags": []
          },
          "execution_count": 3
        }
      ]
    },
    {
      "cell_type": "code",
      "metadata": {
        "id": "leF6ReZKF2iv",
        "colab_type": "code",
        "colab": {
          "base_uri": "https://localhost:8080/",
          "height": 252
        },
        "outputId": "76ff0cc2-a331-4d21-9721-5d2a6d811d75"
      },
      "source": [
        "#Explore the dataset\n",
        "\n",
        "dataset.head"
      ],
      "execution_count": 4,
      "outputs": [
        {
          "output_type": "execute_result",
          "data": {
            "text/plain": [
              "<bound method NDFrame.head of                                                   review sentiment\n",
              "0      One of the other reviewers has mentioned that ...  positive\n",
              "1      A wonderful little production. <br /><br />The...  positive\n",
              "2      I thought this was a wonderful way to spend ti...  positive\n",
              "3      Basically there's a family where a little boy ...  negative\n",
              "4      Petter Mattei's \"Love in the Time of Money\" is...  positive\n",
              "...                                                  ...       ...\n",
              "49995  I thought this movie did a down right good job...  positive\n",
              "49996  Bad plot, bad dialogue, bad acting, idiotic di...  negative\n",
              "49997  I am a Catholic taught in parochial elementary...  negative\n",
              "49998  I'm going to have to disagree with the previou...  negative\n",
              "49999  No one expects the Star Trek movies to be high...  negative\n",
              "\n",
              "[50000 rows x 2 columns]>"
            ]
          },
          "metadata": {
            "tags": []
          },
          "execution_count": 4
        }
      ]
    },
    {
      "cell_type": "code",
      "metadata": {
        "id": "mSQ3UmCvF2ix",
        "colab_type": "code",
        "colab": {
          "base_uri": "https://localhost:8080/",
          "height": 67
        },
        "outputId": "3ad6d310-76cd-44f1-95e5-cef8be7aab10"
      },
      "source": [
        "#Checking the count of positive and negative sentiments\n",
        "\n",
        "dataset['sentiment'].value_counts()"
      ],
      "execution_count": 5,
      "outputs": [
        {
          "output_type": "execute_result",
          "data": {
            "text/plain": [
              "negative    25000\n",
              "positive    25000\n",
              "Name: sentiment, dtype: int64"
            ]
          },
          "metadata": {
            "tags": []
          },
          "execution_count": 5
        }
      ]
    },
    {
      "cell_type": "markdown",
      "metadata": {
        "id": "mnJYB3baqf-F",
        "colab_type": "text"
      },
      "source": [
        " **Applying NLP techniques**"
      ]
    },
    {
      "cell_type": "code",
      "metadata": {
        "id": "4t9egXOiF2iz",
        "colab_type": "code",
        "colab": {
          "base_uri": "https://localhost:8080/",
          "height": 137
        },
        "outputId": "15692643-c4e6-42b4-884f-a026af2b6d49"
      },
      "source": [
        "#Checking the review 1 to understand its format\n",
        "\n",
        "review = dataset['review'].loc[1]\n",
        "review"
      ],
      "execution_count": 6,
      "outputs": [
        {
          "output_type": "execute_result",
          "data": {
            "application/vnd.google.colaboratory.intrinsic+json": {
              "type": "string"
            },
            "text/plain": [
              "'A wonderful little production. <br /><br />The filming technique is very unassuming- very old-time-BBC fashion and gives a comforting, and sometimes discomforting, sense of realism to the entire piece. <br /><br />The actors are extremely well chosen- Michael Sheen not only \"has got all the polari\" but he has all the voices down pat too! You can truly see the seamless editing guided by the references to Williams\\' diary entries, not only is it well worth the watching but it is a terrificly written and performed piece. A masterful production about one of the great master\\'s of comedy and his life. <br /><br />The realism really comes home with the little things: the fantasy of the guard which, rather than use the traditional \\'dream\\' techniques remains solid then disappears. It plays on our knowledge and our senses, particularly with the scenes concerning Orton and Halliwell and the sets (particularly of their flat with Halliwell\\'s murals decorating every surface) are terribly well done.'"
            ]
          },
          "metadata": {
            "tags": []
          },
          "execution_count": 6
        }
      ]
    },
    {
      "cell_type": "code",
      "metadata": {
        "id": "io6sIkMUF2i1",
        "colab_type": "code",
        "colab": {
          "base_uri": "https://localhost:8080/",
          "height": 136
        },
        "outputId": "9dcbaf71-1814-4714-a9f4-0b176ce23f6b"
      },
      "source": [
        "#Removing HTML contents like \"<br>\"\n",
        "\n",
        "from bs4 import BeautifulSoup\n",
        "\n",
        "soup = BeautifulSoup(review, \"html.parser\")\n",
        "review = soup.get_text()\n",
        "review"
      ],
      "execution_count": 7,
      "outputs": [
        {
          "output_type": "execute_result",
          "data": {
            "application/vnd.google.colaboratory.intrinsic+json": {
              "type": "string"
            },
            "text/plain": [
              "'A wonderful little production. The filming technique is very unassuming- very old-time-BBC fashion and gives a comforting, and sometimes discomforting, sense of realism to the entire piece. The actors are extremely well chosen- Michael Sheen not only \"has got all the polari\" but he has all the voices down pat too! You can truly see the seamless editing guided by the references to Williams\\' diary entries, not only is it well worth the watching but it is a terrificly written and performed piece. A masterful production about one of the great master\\'s of comedy and his life. The realism really comes home with the little things: the fantasy of the guard which, rather than use the traditional \\'dream\\' techniques remains solid then disappears. It plays on our knowledge and our senses, particularly with the scenes concerning Orton and Halliwell and the sets (particularly of their flat with Halliwell\\'s murals decorating every surface) are terribly well done.'"
            ]
          },
          "metadata": {
            "tags": []
          },
          "execution_count": 7
        }
      ]
    },
    {
      "cell_type": "code",
      "metadata": {
        "id": "nqpaOf4HF2i3",
        "colab_type": "code",
        "colab": {
          "base_uri": "https://localhost:8080/",
          "height": 136
        },
        "outputId": "5bc7385a-8001-44ba-889d-f824055a4601"
      },
      "source": [
        "#Remove punctuations and special characters\n",
        "\n",
        "import re\n",
        "\n",
        "review = re.sub('\\[[^]]*\\]', ' ', review)\n",
        "review = re.sub('[^a-zA-Z]', ' ', review)\n",
        "review"
      ],
      "execution_count": 8,
      "outputs": [
        {
          "output_type": "execute_result",
          "data": {
            "application/vnd.google.colaboratory.intrinsic+json": {
              "type": "string"
            },
            "text/plain": [
              "'A wonderful little production  The filming technique is very unassuming  very old time BBC fashion and gives a comforting  and sometimes discomforting  sense of realism to the entire piece  The actors are extremely well chosen  Michael Sheen not only  has got all the polari  but he has all the voices down pat too  You can truly see the seamless editing guided by the references to Williams  diary entries  not only is it well worth the watching but it is a terrificly written and performed piece  A masterful production about one of the great master s of comedy and his life  The realism really comes home with the little things  the fantasy of the guard which  rather than use the traditional  dream  techniques remains solid then disappears  It plays on our knowledge and our senses  particularly with the scenes concerning Orton and Halliwell and the sets  particularly of their flat with Halliwell s murals decorating every surface  are terribly well done '"
            ]
          },
          "metadata": {
            "tags": []
          },
          "execution_count": 8
        }
      ]
    },
    {
      "cell_type": "code",
      "metadata": {
        "id": "i0Wi3ABDF2i5",
        "colab_type": "code",
        "colab": {
          "base_uri": "https://localhost:8080/",
          "height": 136
        },
        "outputId": "5a251093-71ca-4a5c-f09a-41fb9779b23b"
      },
      "source": [
        "#Converting the text into lower case\n",
        "\n",
        "review = review.lower()\n",
        "review"
      ],
      "execution_count": 9,
      "outputs": [
        {
          "output_type": "execute_result",
          "data": {
            "application/vnd.google.colaboratory.intrinsic+json": {
              "type": "string"
            },
            "text/plain": [
              "'a wonderful little production  the filming technique is very unassuming  very old time bbc fashion and gives a comforting  and sometimes discomforting  sense of realism to the entire piece  the actors are extremely well chosen  michael sheen not only  has got all the polari  but he has all the voices down pat too  you can truly see the seamless editing guided by the references to williams  diary entries  not only is it well worth the watching but it is a terrificly written and performed piece  a masterful production about one of the great master s of comedy and his life  the realism really comes home with the little things  the fantasy of the guard which  rather than use the traditional  dream  techniques remains solid then disappears  it plays on our knowledge and our senses  particularly with the scenes concerning orton and halliwell and the sets  particularly of their flat with halliwell s murals decorating every surface  are terribly well done '"
            ]
          },
          "metadata": {
            "tags": []
          },
          "execution_count": 9
        }
      ]
    },
    {
      "cell_type": "code",
      "metadata": {
        "id": "C8J9ugFVF2i7",
        "colab_type": "code",
        "colab": {
          "base_uri": "https://localhost:8080/",
          "height": 1000
        },
        "outputId": "d17d12df-8450-4797-f2a2-d2c2ba66b9ec"
      },
      "source": [
        "#Spliting the text for stopword removal\n",
        "\n",
        "review = review.split()\n",
        "review"
      ],
      "execution_count": 10,
      "outputs": [
        {
          "output_type": "execute_result",
          "data": {
            "text/plain": [
              "['a',\n",
              " 'wonderful',\n",
              " 'little',\n",
              " 'production',\n",
              " 'the',\n",
              " 'filming',\n",
              " 'technique',\n",
              " 'is',\n",
              " 'very',\n",
              " 'unassuming',\n",
              " 'very',\n",
              " 'old',\n",
              " 'time',\n",
              " 'bbc',\n",
              " 'fashion',\n",
              " 'and',\n",
              " 'gives',\n",
              " 'a',\n",
              " 'comforting',\n",
              " 'and',\n",
              " 'sometimes',\n",
              " 'discomforting',\n",
              " 'sense',\n",
              " 'of',\n",
              " 'realism',\n",
              " 'to',\n",
              " 'the',\n",
              " 'entire',\n",
              " 'piece',\n",
              " 'the',\n",
              " 'actors',\n",
              " 'are',\n",
              " 'extremely',\n",
              " 'well',\n",
              " 'chosen',\n",
              " 'michael',\n",
              " 'sheen',\n",
              " 'not',\n",
              " 'only',\n",
              " 'has',\n",
              " 'got',\n",
              " 'all',\n",
              " 'the',\n",
              " 'polari',\n",
              " 'but',\n",
              " 'he',\n",
              " 'has',\n",
              " 'all',\n",
              " 'the',\n",
              " 'voices',\n",
              " 'down',\n",
              " 'pat',\n",
              " 'too',\n",
              " 'you',\n",
              " 'can',\n",
              " 'truly',\n",
              " 'see',\n",
              " 'the',\n",
              " 'seamless',\n",
              " 'editing',\n",
              " 'guided',\n",
              " 'by',\n",
              " 'the',\n",
              " 'references',\n",
              " 'to',\n",
              " 'williams',\n",
              " 'diary',\n",
              " 'entries',\n",
              " 'not',\n",
              " 'only',\n",
              " 'is',\n",
              " 'it',\n",
              " 'well',\n",
              " 'worth',\n",
              " 'the',\n",
              " 'watching',\n",
              " 'but',\n",
              " 'it',\n",
              " 'is',\n",
              " 'a',\n",
              " 'terrificly',\n",
              " 'written',\n",
              " 'and',\n",
              " 'performed',\n",
              " 'piece',\n",
              " 'a',\n",
              " 'masterful',\n",
              " 'production',\n",
              " 'about',\n",
              " 'one',\n",
              " 'of',\n",
              " 'the',\n",
              " 'great',\n",
              " 'master',\n",
              " 's',\n",
              " 'of',\n",
              " 'comedy',\n",
              " 'and',\n",
              " 'his',\n",
              " 'life',\n",
              " 'the',\n",
              " 'realism',\n",
              " 'really',\n",
              " 'comes',\n",
              " 'home',\n",
              " 'with',\n",
              " 'the',\n",
              " 'little',\n",
              " 'things',\n",
              " 'the',\n",
              " 'fantasy',\n",
              " 'of',\n",
              " 'the',\n",
              " 'guard',\n",
              " 'which',\n",
              " 'rather',\n",
              " 'than',\n",
              " 'use',\n",
              " 'the',\n",
              " 'traditional',\n",
              " 'dream',\n",
              " 'techniques',\n",
              " 'remains',\n",
              " 'solid',\n",
              " 'then',\n",
              " 'disappears',\n",
              " 'it',\n",
              " 'plays',\n",
              " 'on',\n",
              " 'our',\n",
              " 'knowledge',\n",
              " 'and',\n",
              " 'our',\n",
              " 'senses',\n",
              " 'particularly',\n",
              " 'with',\n",
              " 'the',\n",
              " 'scenes',\n",
              " 'concerning',\n",
              " 'orton',\n",
              " 'and',\n",
              " 'halliwell',\n",
              " 'and',\n",
              " 'the',\n",
              " 'sets',\n",
              " 'particularly',\n",
              " 'of',\n",
              " 'their',\n",
              " 'flat',\n",
              " 'with',\n",
              " 'halliwell',\n",
              " 's',\n",
              " 'murals',\n",
              " 'decorating',\n",
              " 'every',\n",
              " 'surface',\n",
              " 'are',\n",
              " 'terribly',\n",
              " 'well',\n",
              " 'done']"
            ]
          },
          "metadata": {
            "tags": []
          },
          "execution_count": 10
        }
      ]
    },
    {
      "cell_type": "code",
      "metadata": {
        "id": "yJe-7JbeF2i8",
        "colab_type": "code",
        "colab": {
          "base_uri": "https://localhost:8080/",
          "height": 1000
        },
        "outputId": "b38df364-c43a-4bcc-e037-19a588e52dc8"
      },
      "source": [
        "import nltk\n",
        "nltk.download('stopwords')\n",
        "from nltk.corpus import stopwords\n",
        "\n",
        "review = [word for word in review if not word in set(stopwords.words('english'))]\n",
        "review"
      ],
      "execution_count": 11,
      "outputs": [
        {
          "output_type": "stream",
          "text": [
            "[nltk_data] Downloading package stopwords to /root/nltk_data...\n",
            "[nltk_data]   Unzipping corpora/stopwords.zip.\n"
          ],
          "name": "stdout"
        },
        {
          "output_type": "execute_result",
          "data": {
            "text/plain": [
              "['wonderful',\n",
              " 'little',\n",
              " 'production',\n",
              " 'filming',\n",
              " 'technique',\n",
              " 'unassuming',\n",
              " 'old',\n",
              " 'time',\n",
              " 'bbc',\n",
              " 'fashion',\n",
              " 'gives',\n",
              " 'comforting',\n",
              " 'sometimes',\n",
              " 'discomforting',\n",
              " 'sense',\n",
              " 'realism',\n",
              " 'entire',\n",
              " 'piece',\n",
              " 'actors',\n",
              " 'extremely',\n",
              " 'well',\n",
              " 'chosen',\n",
              " 'michael',\n",
              " 'sheen',\n",
              " 'got',\n",
              " 'polari',\n",
              " 'voices',\n",
              " 'pat',\n",
              " 'truly',\n",
              " 'see',\n",
              " 'seamless',\n",
              " 'editing',\n",
              " 'guided',\n",
              " 'references',\n",
              " 'williams',\n",
              " 'diary',\n",
              " 'entries',\n",
              " 'well',\n",
              " 'worth',\n",
              " 'watching',\n",
              " 'terrificly',\n",
              " 'written',\n",
              " 'performed',\n",
              " 'piece',\n",
              " 'masterful',\n",
              " 'production',\n",
              " 'one',\n",
              " 'great',\n",
              " 'master',\n",
              " 'comedy',\n",
              " 'life',\n",
              " 'realism',\n",
              " 'really',\n",
              " 'comes',\n",
              " 'home',\n",
              " 'little',\n",
              " 'things',\n",
              " 'fantasy',\n",
              " 'guard',\n",
              " 'rather',\n",
              " 'use',\n",
              " 'traditional',\n",
              " 'dream',\n",
              " 'techniques',\n",
              " 'remains',\n",
              " 'solid',\n",
              " 'disappears',\n",
              " 'plays',\n",
              " 'knowledge',\n",
              " 'senses',\n",
              " 'particularly',\n",
              " 'scenes',\n",
              " 'concerning',\n",
              " 'orton',\n",
              " 'halliwell',\n",
              " 'sets',\n",
              " 'particularly',\n",
              " 'flat',\n",
              " 'halliwell',\n",
              " 'murals',\n",
              " 'decorating',\n",
              " 'every',\n",
              " 'surface',\n",
              " 'terribly',\n",
              " 'well',\n",
              " 'done']"
            ]
          },
          "metadata": {
            "tags": []
          },
          "execution_count": 11
        }
      ]
    },
    {
      "cell_type": "code",
      "metadata": {
        "id": "YaCmns0XF2i-",
        "colab_type": "code",
        "colab": {
          "base_uri": "https://localhost:8080/",
          "height": 1000
        },
        "outputId": "02bafe8a-b567-4b5c-ef2e-01799ff38080"
      },
      "source": [
        "#Applying stemming\n",
        "\n",
        "from nltk.stem.porter import PorterStemmer\n",
        "\n",
        "ps = PorterStemmer()\n",
        "review_stemming = [ps.stem(word) for word in review]\n",
        "review_stemming"
      ],
      "execution_count": 12,
      "outputs": [
        {
          "output_type": "execute_result",
          "data": {
            "text/plain": [
              "['wonder',\n",
              " 'littl',\n",
              " 'product',\n",
              " 'film',\n",
              " 'techniqu',\n",
              " 'unassum',\n",
              " 'old',\n",
              " 'time',\n",
              " 'bbc',\n",
              " 'fashion',\n",
              " 'give',\n",
              " 'comfort',\n",
              " 'sometim',\n",
              " 'discomfort',\n",
              " 'sens',\n",
              " 'realism',\n",
              " 'entir',\n",
              " 'piec',\n",
              " 'actor',\n",
              " 'extrem',\n",
              " 'well',\n",
              " 'chosen',\n",
              " 'michael',\n",
              " 'sheen',\n",
              " 'got',\n",
              " 'polari',\n",
              " 'voic',\n",
              " 'pat',\n",
              " 'truli',\n",
              " 'see',\n",
              " 'seamless',\n",
              " 'edit',\n",
              " 'guid',\n",
              " 'refer',\n",
              " 'william',\n",
              " 'diari',\n",
              " 'entri',\n",
              " 'well',\n",
              " 'worth',\n",
              " 'watch',\n",
              " 'terrificli',\n",
              " 'written',\n",
              " 'perform',\n",
              " 'piec',\n",
              " 'master',\n",
              " 'product',\n",
              " 'one',\n",
              " 'great',\n",
              " 'master',\n",
              " 'comedi',\n",
              " 'life',\n",
              " 'realism',\n",
              " 'realli',\n",
              " 'come',\n",
              " 'home',\n",
              " 'littl',\n",
              " 'thing',\n",
              " 'fantasi',\n",
              " 'guard',\n",
              " 'rather',\n",
              " 'use',\n",
              " 'tradit',\n",
              " 'dream',\n",
              " 'techniqu',\n",
              " 'remain',\n",
              " 'solid',\n",
              " 'disappear',\n",
              " 'play',\n",
              " 'knowledg',\n",
              " 'sens',\n",
              " 'particularli',\n",
              " 'scene',\n",
              " 'concern',\n",
              " 'orton',\n",
              " 'halliwel',\n",
              " 'set',\n",
              " 'particularli',\n",
              " 'flat',\n",
              " 'halliwel',\n",
              " 'mural',\n",
              " 'decor',\n",
              " 'everi',\n",
              " 'surfac',\n",
              " 'terribl',\n",
              " 'well',\n",
              " 'done']"
            ]
          },
          "metadata": {
            "tags": []
          },
          "execution_count": 12
        }
      ]
    },
    {
      "cell_type": "code",
      "metadata": {
        "id": "BDeCbW11F2jA",
        "colab_type": "code",
        "colab": {
          "base_uri": "https://localhost:8080/",
          "height": 1000
        },
        "outputId": "f4d3ca79-f0b8-495b-be62-d0636869f56a"
      },
      "source": [
        "#Applying Lemmatization\n",
        "\n",
        "import nltk\n",
        "nltk.download('wordnet')\n",
        "\n",
        "from nltk.stem import WordNetLemmatizer\n",
        "\n",
        "lem = WordNetLemmatizer()\n",
        "review = [lem.lemmatize(word) for word in review]\n",
        "review"
      ],
      "execution_count": 14,
      "outputs": [
        {
          "output_type": "stream",
          "text": [
            "[nltk_data] Downloading package wordnet to /root/nltk_data...\n",
            "[nltk_data]   Unzipping corpora/wordnet.zip.\n"
          ],
          "name": "stdout"
        },
        {
          "output_type": "execute_result",
          "data": {
            "text/plain": [
              "['wonderful',\n",
              " 'little',\n",
              " 'production',\n",
              " 'filming',\n",
              " 'technique',\n",
              " 'unassuming',\n",
              " 'old',\n",
              " 'time',\n",
              " 'bbc',\n",
              " 'fashion',\n",
              " 'give',\n",
              " 'comforting',\n",
              " 'sometimes',\n",
              " 'discomforting',\n",
              " 'sense',\n",
              " 'realism',\n",
              " 'entire',\n",
              " 'piece',\n",
              " 'actor',\n",
              " 'extremely',\n",
              " 'well',\n",
              " 'chosen',\n",
              " 'michael',\n",
              " 'sheen',\n",
              " 'got',\n",
              " 'polari',\n",
              " 'voice',\n",
              " 'pat',\n",
              " 'truly',\n",
              " 'see',\n",
              " 'seamless',\n",
              " 'editing',\n",
              " 'guided',\n",
              " 'reference',\n",
              " 'williams',\n",
              " 'diary',\n",
              " 'entry',\n",
              " 'well',\n",
              " 'worth',\n",
              " 'watching',\n",
              " 'terrificly',\n",
              " 'written',\n",
              " 'performed',\n",
              " 'piece',\n",
              " 'masterful',\n",
              " 'production',\n",
              " 'one',\n",
              " 'great',\n",
              " 'master',\n",
              " 'comedy',\n",
              " 'life',\n",
              " 'realism',\n",
              " 'really',\n",
              " 'come',\n",
              " 'home',\n",
              " 'little',\n",
              " 'thing',\n",
              " 'fantasy',\n",
              " 'guard',\n",
              " 'rather',\n",
              " 'use',\n",
              " 'traditional',\n",
              " 'dream',\n",
              " 'technique',\n",
              " 'remains',\n",
              " 'solid',\n",
              " 'disappears',\n",
              " 'play',\n",
              " 'knowledge',\n",
              " 'sens',\n",
              " 'particularly',\n",
              " 'scene',\n",
              " 'concerning',\n",
              " 'orton',\n",
              " 'halliwell',\n",
              " 'set',\n",
              " 'particularly',\n",
              " 'flat',\n",
              " 'halliwell',\n",
              " 'mural',\n",
              " 'decorating',\n",
              " 'every',\n",
              " 'surface',\n",
              " 'terribly',\n",
              " 'well',\n",
              " 'done']"
            ]
          },
          "metadata": {
            "tags": []
          },
          "execution_count": 14
        }
      ]
    },
    {
      "cell_type": "code",
      "metadata": {
        "id": "wv1NNE4AF2jC",
        "colab_type": "code",
        "colab": {
          "base_uri": "https://localhost:8080/",
          "height": 102
        },
        "outputId": "d56890e5-0c99-4e78-b83e-1f06e852ef9f"
      },
      "source": [
        "#Merge the words\n",
        "\n",
        "review = ' '.join(review)\n",
        "review"
      ],
      "execution_count": 15,
      "outputs": [
        {
          "output_type": "execute_result",
          "data": {
            "application/vnd.google.colaboratory.intrinsic+json": {
              "type": "string"
            },
            "text/plain": [
              "'wonderful little production filming technique unassuming old time bbc fashion give comforting sometimes discomforting sense realism entire piece actor extremely well chosen michael sheen got polari voice pat truly see seamless editing guided reference williams diary entry well worth watching terrificly written performed piece masterful production one great master comedy life realism really come home little thing fantasy guard rather use traditional dream technique remains solid disappears play knowledge sens particularly scene concerning orton halliwell set particularly flat halliwell mural decorating every surface terribly well done'"
            ]
          },
          "metadata": {
            "tags": []
          },
          "execution_count": 15
        }
      ]
    },
    {
      "cell_type": "code",
      "metadata": {
        "id": "3MeG2lf7F2jE",
        "colab_type": "code",
        "colab": {}
      },
      "source": [
        "#Creating corpus\n",
        "\n",
        "corpus = []\n",
        "corpus.append(review)"
      ],
      "execution_count": 16,
      "outputs": []
    },
    {
      "cell_type": "code",
      "metadata": {
        "id": "1x1rq-TLF2jF",
        "colab_type": "code",
        "colab": {
          "base_uri": "https://localhost:8080/",
          "height": 84
        },
        "outputId": "cd611e63-bba9-4db3-de56-91770cd69202"
      },
      "source": [
        "#Vectorization\n",
        "\n",
        "from sklearn.feature_extraction.text import CountVectorizer\n",
        "\n",
        "count_vec = CountVectorizer()\n",
        "review_count_vec = count_vec.fit_transform(corpus)\n",
        "\n",
        "review_count_vec.toarray()"
      ],
      "execution_count": 17,
      "outputs": [
        {
          "output_type": "execute_result",
          "data": {
            "text/plain": [
              "array([[1, 1, 1, 1, 1, 1, 1, 1, 1, 1, 1, 1, 1, 1, 1, 1, 1, 1, 1, 1, 1, 1,\n",
              "        1, 1, 1, 1, 1, 2, 1, 1, 1, 2, 1, 1, 1, 1, 1, 1, 1, 2, 1, 1, 2, 1,\n",
              "        1, 2, 1, 2, 1, 1, 1, 1, 1, 1, 1, 1, 1, 1, 1, 1, 1, 2, 1, 1, 1, 1,\n",
              "        1, 1, 1, 1, 1, 1, 3, 1, 1, 1, 1]])"
            ]
          },
          "metadata": {
            "tags": []
          },
          "execution_count": 17
        }
      ]
    },
    {
      "cell_type": "code",
      "metadata": {
        "id": "gc_4R3HNF2jH",
        "colab_type": "code",
        "colab": {
          "base_uri": "https://localhost:8080/",
          "height": 84
        },
        "outputId": "829eb25c-b4d4-4523-ef61-1a70dad98bb5"
      },
      "source": [
        "count_vec_bin = CountVectorizer(binary=True)\n",
        "review_count_vec_bin = count_vec_bin.fit_transform(corpus)\n",
        "\n",
        "review_count_vec_bin.toarray()"
      ],
      "execution_count": 18,
      "outputs": [
        {
          "output_type": "execute_result",
          "data": {
            "text/plain": [
              "array([[1, 1, 1, 1, 1, 1, 1, 1, 1, 1, 1, 1, 1, 1, 1, 1, 1, 1, 1, 1, 1, 1,\n",
              "        1, 1, 1, 1, 1, 1, 1, 1, 1, 1, 1, 1, 1, 1, 1, 1, 1, 1, 1, 1, 1, 1,\n",
              "        1, 1, 1, 1, 1, 1, 1, 1, 1, 1, 1, 1, 1, 1, 1, 1, 1, 1, 1, 1, 1, 1,\n",
              "        1, 1, 1, 1, 1, 1, 1, 1, 1, 1, 1]])"
            ]
          },
          "metadata": {
            "tags": []
          },
          "execution_count": 18
        }
      ]
    },
    {
      "cell_type": "code",
      "metadata": {
        "id": "Ai4vEGZ7F2jJ",
        "colab_type": "code",
        "colab": {
          "base_uri": "https://localhost:8080/",
          "height": 286
        },
        "outputId": "80e6c0a2-5d11-41c6-94f8-e50d293acb14"
      },
      "source": [
        "#TF-IDF\n",
        "\n",
        "from sklearn.feature_extraction.text import TfidfVectorizer\n",
        "\n",
        "tfidf_vec = TfidfVectorizer()\n",
        "review_tfidf_vec = tfidf_vec.fit_transform(corpus)\n",
        "\n",
        "review_tfidf_vec.toarray()"
      ],
      "execution_count": 19,
      "outputs": [
        {
          "output_type": "execute_result",
          "data": {
            "text/plain": [
              "array([[0.09712859, 0.09712859, 0.09712859, 0.09712859, 0.09712859,\n",
              "        0.09712859, 0.09712859, 0.09712859, 0.09712859, 0.09712859,\n",
              "        0.09712859, 0.09712859, 0.09712859, 0.09712859, 0.09712859,\n",
              "        0.09712859, 0.09712859, 0.09712859, 0.09712859, 0.09712859,\n",
              "        0.09712859, 0.09712859, 0.09712859, 0.09712859, 0.09712859,\n",
              "        0.09712859, 0.09712859, 0.19425717, 0.09712859, 0.09712859,\n",
              "        0.09712859, 0.19425717, 0.09712859, 0.09712859, 0.09712859,\n",
              "        0.09712859, 0.09712859, 0.09712859, 0.09712859, 0.19425717,\n",
              "        0.09712859, 0.09712859, 0.19425717, 0.09712859, 0.09712859,\n",
              "        0.19425717, 0.09712859, 0.19425717, 0.09712859, 0.09712859,\n",
              "        0.09712859, 0.09712859, 0.09712859, 0.09712859, 0.09712859,\n",
              "        0.09712859, 0.09712859, 0.09712859, 0.09712859, 0.09712859,\n",
              "        0.09712859, 0.19425717, 0.09712859, 0.09712859, 0.09712859,\n",
              "        0.09712859, 0.09712859, 0.09712859, 0.09712859, 0.09712859,\n",
              "        0.09712859, 0.09712859, 0.29138576, 0.09712859, 0.09712859,\n",
              "        0.09712859, 0.09712859]])"
            ]
          },
          "metadata": {
            "tags": []
          },
          "execution_count": 19
        }
      ]
    },
    {
      "cell_type": "code",
      "metadata": {
        "id": "L4_HlOjtF2jL",
        "colab_type": "code",
        "colab": {}
      },
      "source": [
        "#Splitting the dataset into train data and test data\n",
        "\n",
        "from sklearn.model_selection import train_test_split\n",
        "\n",
        "x_train, x_test, y_train, y_test = train_test_split(dataset['review'], dataset['sentiment'], test_size=0.25, random_state=42)"
      ],
      "execution_count": 20,
      "outputs": []
    },
    {
      "cell_type": "code",
      "metadata": {
        "id": "kgUJL5j1F2jN",
        "colab_type": "code",
        "colab": {}
      },
      "source": [
        "#Converting sentiments to numeric values\n",
        "\n",
        "y_train = (y_train.replace({'positive': 1, 'negative': 0})).values\n",
        "y_test  = (y_test.replace({'positive': 1, 'negative': 0})).values"
      ],
      "execution_count": 21,
      "outputs": []
    },
    {
      "cell_type": "code",
      "metadata": {
        "id": "RtSG22kUF2jP",
        "colab_type": "code",
        "colab": {}
      },
      "source": [
        "corpus_train = []\n",
        "corpus_test  = []\n",
        "\n",
        "for i in range(x_train.shape[0]):\n",
        "    soup = BeautifulSoup(x_train.iloc[i], \"html.parser\")\n",
        "    review = soup.get_text()\n",
        "    review = re.sub('\\[[^]]*\\]', ' ', review)\n",
        "    review = re.sub('[^a-zA-Z]', ' ', review)\n",
        "    review = review.lower()\n",
        "    review = review.split()\n",
        "    review = [word for word in review if not word in set(stopwords.words('english'))]\n",
        "    lem = WordNetLemmatizer()\n",
        "    review = [lem.lemmatize(word) for word in review]\n",
        "    review = ' '.join(review)\n",
        "    corpus_train.append(review)\n",
        "    \n",
        "for j in range(x_test.shape[0]):\n",
        "    soup = BeautifulSoup(x_test.iloc[j], \"html.parser\")\n",
        "    review = soup.get_text()\n",
        "    review = re.sub('\\[[^]]*\\]', ' ', review)\n",
        "    review = re.sub('[^a-zA-Z]', ' ', review)\n",
        "    review = review.lower()\n",
        "    review = review.split()\n",
        "    review = [word for word in review if not word in set(stopwords.words('english'))]\n",
        "    lem = WordNetLemmatizer()\n",
        "    review = [lem.lemmatize(word) for word in review]\n",
        "    review = ' '.join(review)\n",
        "    corpus_test.append(review)"
      ],
      "execution_count": 22,
      "outputs": []
    },
    {
      "cell_type": "code",
      "metadata": {
        "id": "mRogXTiGF2jQ",
        "colab_type": "code",
        "colab": {
          "base_uri": "https://localhost:8080/",
          "height": 86
        },
        "outputId": "1b0688df-048b-4883-9cd8-e1a4c7a77a42"
      },
      "source": [
        "corpus_train[-1]"
      ],
      "execution_count": 23,
      "outputs": [
        {
          "output_type": "execute_result",
          "data": {
            "application/vnd.google.colaboratory.intrinsic+json": {
              "type": "string"
            },
            "text/plain": [
              "'decent movie although little bit short time pack lot action grit commonsense emotion time frame matt dillon main character great job movie emotion intensity convincing tense throughout movie typical fancy expensive hollywood cgi action movie satisfying movie indeed price evening great movie movie straight traditional action movie great acting story directing would recommend movie character development character good make believe actually seeing real event taking place movie believe made cheaper budget acting quality much higher'"
            ]
          },
          "metadata": {
            "tags": []
          },
          "execution_count": 23
        }
      ]
    },
    {
      "cell_type": "code",
      "metadata": {
        "id": "RtplWILDF2jS",
        "colab_type": "code",
        "colab": {
          "base_uri": "https://localhost:8080/",
          "height": 52
        },
        "outputId": "43cea933-eca7-4e72-ad05-bc9c0b1492ff"
      },
      "source": [
        "corpus_test[-1]"
      ],
      "execution_count": 24,
      "outputs": [
        {
          "output_type": "execute_result",
          "data": {
            "application/vnd.google.colaboratory.intrinsic+json": {
              "type": "string"
            },
            "text/plain": [
              "'wonderfully funny awe inspiring feature pioneer turntablism dj shadow q bert amazing terrific documentary check every major dj crediting getting scratch thanks herbie hancock post bop classic rockit archival footage complex mind blowing turntable routine time'"
            ]
          },
          "metadata": {
            "tags": []
          },
          "execution_count": 24
        }
      ]
    },
    {
      "cell_type": "code",
      "metadata": {
        "id": "xCiLqUFsF2jU",
        "colab_type": "code",
        "colab": {}
      },
      "source": [
        "tfidf_vec = TfidfVectorizer(ngram_range=(1, 3))\n",
        "\n",
        "tfidf_vec_train = tfidf_vec.fit_transform(corpus_train)\n",
        "tfidf_vec_test = tfidf_vec.transform(corpus_test)"
      ],
      "execution_count": 25,
      "outputs": []
    },
    {
      "cell_type": "markdown",
      "metadata": {
        "id": "sw2EhHhYq25b",
        "colab_type": "text"
      },
      "source": [
        "**Implementing Linear SVC**"
      ]
    },
    {
      "cell_type": "code",
      "metadata": {
        "id": "VaKUxdsOF2jW",
        "colab_type": "code",
        "colab": {}
      },
      "source": [
        "from sklearn.svm import LinearSVC\n",
        "\n",
        "linear_svc = LinearSVC(C=0.5, random_state=42)\n",
        "linear_svc.fit(tfidf_vec_train, y_train)\n",
        "\n",
        "predict = linear_svc.predict(tfidf_vec_test)"
      ],
      "execution_count": 26,
      "outputs": []
    },
    {
      "cell_type": "code",
      "metadata": {
        "id": "0dARF5tPF2jY",
        "colab_type": "code",
        "colab": {
          "base_uri": "https://localhost:8080/",
          "height": 269
        },
        "outputId": "6b013f2e-8994-4b71-8f81-55463b487789"
      },
      "source": [
        "from sklearn.metrics import classification_report, confusion_matrix, accuracy_score\n",
        "\n",
        "print(\"Classification Report: \\n\", classification_report(y_test, predict,target_names=['Negative','Positive']))\n",
        "print(\"Confusion Matrix: \\n\", confusion_matrix(y_test, predict))\n",
        "print(\"Accuracy: \\n\", accuracy_score(y_test, predict))"
      ],
      "execution_count": 27,
      "outputs": [
        {
          "output_type": "stream",
          "text": [
            "Classification Report: \n",
            "               precision    recall  f1-score   support\n",
            "\n",
            "    Negative       0.91      0.89      0.90      6157\n",
            "    Positive       0.89      0.92      0.91      6343\n",
            "\n",
            "    accuracy                           0.90     12500\n",
            "   macro avg       0.90      0.90      0.90     12500\n",
            "weighted avg       0.90      0.90      0.90     12500\n",
            "\n",
            "Confusion Matrix: \n",
            " [[5467  690]\n",
            " [ 524 5819]]\n",
            "Accuracy: \n",
            " 0.90288\n"
          ],
          "name": "stdout"
        }
      ]
    },
    {
      "cell_type": "markdown",
      "metadata": {
        "id": "X7-tTuD3rpLO",
        "colab_type": "text"
      },
      "source": [
        "**Implementing RNN LSTM**"
      ]
    },
    {
      "cell_type": "code",
      "metadata": {
        "id": "9q95xAqsF2ja",
        "colab_type": "code",
        "colab": {}
      },
      "source": [
        "#Importing required libraries\n",
        "\n",
        "from tensorflow.keras.models import Sequential\n",
        "from tensorflow.keras.layers import Dense, Dropout, LSTM, Embedding, Masking, Bidirectional\n",
        "from tensorflow.keras.preprocessing.text import Tokenizer\n",
        "from tensorflow.keras.preprocessing.sequence import pad_sequences"
      ],
      "execution_count": 28,
      "outputs": []
    },
    {
      "cell_type": "code",
      "metadata": {
        "id": "LAtWl73qF2je",
        "colab_type": "code",
        "colab": {}
      },
      "source": [
        "max_features = 20000\n",
        "maxlen = 200\n",
        "tokenizer = Tokenizer(num_words=max_features)"
      ],
      "execution_count": 29,
      "outputs": []
    },
    {
      "cell_type": "code",
      "metadata": {
        "id": "c60S8kVcQ7Dv",
        "colab_type": "code",
        "colab": {}
      },
      "source": [
        "train = pd.DataFrame(x_train)\n",
        "train.columns = ['review']\n",
        "\n",
        "test = pd.DataFrame(x_test)\n",
        "test.columns = ['review']"
      ],
      "execution_count": 30,
      "outputs": []
    },
    {
      "cell_type": "code",
      "metadata": {
        "id": "5V57Eh_1RBTh",
        "colab_type": "code",
        "colab": {}
      },
      "source": [
        "#Applying the Tokenizer\n",
        "\n",
        "tokenizer.fit_on_texts(train['review'])\n",
        "X_train_token = tokenizer.texts_to_sequences(train['review'])\n",
        "\n",
        "tokenizer.fit_on_texts(test['review'])\n",
        "X_test_token = tokenizer.texts_to_sequences(test['review'])"
      ],
      "execution_count": 31,
      "outputs": []
    },
    {
      "cell_type": "code",
      "metadata": {
        "id": "KLcQNVuhRM4b",
        "colab_type": "code",
        "colab": {
          "base_uri": "https://localhost:8080/",
          "height": 34
        },
        "outputId": "6f5c9428-ed01-45de-ab67-3aaa1d7c5168"
      },
      "source": [
        "#Applying the padding\n",
        "\n",
        "x_train = pad_sequences(X_train_token, maxlen=maxlen, padding='post')\n",
        "x_test  = pad_sequences(X_test_token, maxlen=maxlen, padding='post')\n",
        "print(x_train.shape, x_test.shape)"
      ],
      "execution_count": 32,
      "outputs": [
        {
          "output_type": "stream",
          "text": [
            "(37500, 200) (12500, 200)\n"
          ],
          "name": "stdout"
        }
      ]
    },
    {
      "cell_type": "code",
      "metadata": {
        "id": "vaun-ie2RTyQ",
        "colab_type": "code",
        "colab": {}
      },
      "source": [
        "y_train = y_train.copy()\n",
        "y_test  = y_test.copy()"
      ],
      "execution_count": 34,
      "outputs": []
    },
    {
      "cell_type": "code",
      "metadata": {
        "id": "UL29gYFgRe8z",
        "colab_type": "code",
        "colab": {}
      },
      "source": [
        "#Creating the model\n",
        "\n",
        "model = Sequential([Embedding(max_features, 64, mask_zero=True),\n",
        "                    Bidirectional(LSTM(64, dropout=0.2)),\n",
        "                    Dense(64, activation='sigmoid'),\n",
        "                    Dense(1)])"
      ],
      "execution_count": 35,
      "outputs": []
    },
    {
      "cell_type": "code",
      "metadata": {
        "id": "MFoJRym1Rjjd",
        "colab_type": "code",
        "colab": {}
      },
      "source": [
        "#Compiling the model\n",
        "\n",
        "model.compile(loss='binary_crossentropy',\n",
        "              optimizer='adam',\n",
        "              metrics=['accuracy'])"
      ],
      "execution_count": 36,
      "outputs": []
    },
    {
      "cell_type": "code",
      "metadata": {
        "id": "mzTDO6Z6RmNG",
        "colab_type": "code",
        "colab": {
          "base_uri": "https://localhost:8080/",
          "height": 353
        },
        "outputId": "3fae4e24-0f8a-4e05-ced4-6c04265e814d"
      },
      "source": [
        "#Fitting the model\n",
        "\n",
        "history = model.fit(x_train, y_train,\n",
        "                    batch_size=50,\n",
        "                    epochs=10,\n",
        "                    validation_data=(x_test, y_test))"
      ],
      "execution_count": 48,
      "outputs": [
        {
          "output_type": "stream",
          "text": [
            "Epoch 1/10\n",
            "750/750 [==============================] - 227s 303ms/step - loss: 7.6624 - accuracy: 0.4975 - val_loss: 7.5112 - val_accuracy: 0.5074\n",
            "Epoch 2/10\n",
            "750/750 [==============================] - 227s 303ms/step - loss: 7.6624 - accuracy: 0.4975 - val_loss: 7.5112 - val_accuracy: 0.5074\n",
            "Epoch 3/10\n",
            "750/750 [==============================] - 227s 302ms/step - loss: 7.6624 - accuracy: 0.4975 - val_loss: 7.5112 - val_accuracy: 0.5074\n",
            "Epoch 4/10\n",
            "750/750 [==============================] - 227s 302ms/step - loss: 7.6624 - accuracy: 0.4975 - val_loss: 7.5112 - val_accuracy: 0.5074\n",
            "Epoch 5/10\n",
            "750/750 [==============================] - 226s 301ms/step - loss: 7.6624 - accuracy: 0.4975 - val_loss: 7.5112 - val_accuracy: 0.5074\n",
            "Epoch 6/10\n",
            "750/750 [==============================] - 226s 301ms/step - loss: 7.6624 - accuracy: 0.4975 - val_loss: 7.5112 - val_accuracy: 0.5074\n",
            "Epoch 7/10\n",
            "750/750 [==============================] - 226s 301ms/step - loss: 7.6624 - accuracy: 0.4975 - val_loss: 7.5112 - val_accuracy: 0.5074\n",
            "Epoch 8/10\n",
            "750/750 [==============================] - 227s 302ms/step - loss: 7.6624 - accuracy: 0.4975 - val_loss: 7.5112 - val_accuracy: 0.5074\n",
            "Epoch 9/10\n",
            "750/750 [==============================] - 227s 302ms/step - loss: 7.6624 - accuracy: 0.4975 - val_loss: 7.5112 - val_accuracy: 0.5074\n",
            "Epoch 10/10\n",
            "750/750 [==============================] - 228s 303ms/step - loss: 7.6624 - accuracy: 0.4975 - val_loss: 7.5112 - val_accuracy: 0.5074\n"
          ],
          "name": "stdout"
        }
      ]
    },
    {
      "cell_type": "code",
      "metadata": {
        "id": "8fDePAy0UYSq",
        "colab_type": "code",
        "colab": {
          "base_uri": "https://localhost:8080/",
          "height": 689
        },
        "outputId": "1aa3d5c6-b2f5-49d5-ecaf-04841799edd1"
      },
      "source": [
        "history.history"
      ],
      "execution_count": 49,
      "outputs": [
        {
          "output_type": "execute_result",
          "data": {
            "text/plain": [
              "{'accuracy': [0.49751999974250793,\n",
              "  0.49751999974250793,\n",
              "  0.49751999974250793,\n",
              "  0.49751999974250793,\n",
              "  0.49751999974250793,\n",
              "  0.49751999974250793,\n",
              "  0.49751999974250793,\n",
              "  0.49751999974250793,\n",
              "  0.49751999974250793,\n",
              "  0.49751999974250793],\n",
              " 'loss': [7.662442684173584,\n",
              "  7.662442684173584,\n",
              "  7.662443161010742,\n",
              "  7.662445068359375,\n",
              "  7.662445068359375,\n",
              "  7.662449359893799,\n",
              "  7.662444114685059,\n",
              "  7.662444114685059,\n",
              "  7.662439823150635,\n",
              "  7.662444114685059],\n",
              " 'val_accuracy': [0.5074399709701538,\n",
              "  0.5074399709701538,\n",
              "  0.5074399709701538,\n",
              "  0.5074399709701538,\n",
              "  0.5074399709701538,\n",
              "  0.5074399709701538,\n",
              "  0.5074399709701538,\n",
              "  0.5074399709701538,\n",
              "  0.5074399709701538,\n",
              "  0.5074399709701538],\n",
              " 'val_loss': [7.511167049407959,\n",
              "  7.511167049407959,\n",
              "  7.511167049407959,\n",
              "  7.511167049407959,\n",
              "  7.511167049407959,\n",
              "  7.511167049407959,\n",
              "  7.511167049407959,\n",
              "  7.511167049407959,\n",
              "  7.511167049407959,\n",
              "  7.511167049407959]}"
            ]
          },
          "metadata": {
            "tags": []
          },
          "execution_count": 49
        }
      ]
    },
    {
      "cell_type": "code",
      "metadata": {
        "id": "WW-7Hx-3UZ2C",
        "colab_type": "code",
        "colab": {
          "base_uri": "https://localhost:8080/",
          "height": 295
        },
        "outputId": "1e5f1947-4eec-493f-d5db-4a80ebf319de"
      },
      "source": [
        "#Plot of accuracy vs validation accuracy\n",
        "\n",
        "plt.plot(history.history['accuracy'])\n",
        "plt.plot(history.history['val_accuracy'], '')\n",
        "plt.xlabel(\"Epochs\")\n",
        "plt.ylabel('Accuracy')\n",
        "plt.title('Change of Accuracy over Epochs')\n",
        "plt.legend(['accuracy', 'val_accuracy'])\n",
        "plt.show()"
      ],
      "execution_count": 50,
      "outputs": [
        {
          "output_type": "display_data",
          "data": {
            "image/png": "[encoded data removed]",
            "text/plain": [
              "<Figure size 432x288 with 1 Axes>"
            ]
          },
          "metadata": {
            "tags": [],
            "needs_background": "light"
          }
        }
      ]
    },
    {
      "cell_type": "code",
      "metadata": {
        "id": "-W8qrOEEUg72",
        "colab_type": "code",
        "colab": {
          "base_uri": "https://localhost:8080/",
          "height": 295
        },
        "outputId": "faada490-5c07-416b-e916-7732ceeab88c"
      },
      "source": [
        "#Plot of loss vs validation loss\n",
        "\n",
        "plt.plot(history.history['loss'])\n",
        "plt.plot(history.history['val_loss'], '')\n",
        "plt.xlabel(\"Epochs\")\n",
        "plt.ylabel('Loss')\n",
        "plt.title('Change of Loss over Epochs')\n",
        "plt.legend(['loss', 'val_loss'])\n",
        "plt.show()"
      ],
      "execution_count": 51,
      "outputs": [
        {
          "output_type": "display_data",
          "data": {
            "image/png": "[encoded data removed]",
            "text/plain": [
              "<Figure size 432x288 with 1 Axes>"
            ]
          },
          "metadata": {
            "tags": [],
            "needs_background": "light"
          }
        }
      ]
    }
  ]
}